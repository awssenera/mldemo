{
 "cells": [
  {
   "cell_type": "code",
   "execution_count": 1,
   "metadata": {},
   "outputs": [],
   "source": [
    "import boto3\n",
    "import pandas as pd\n",
    "from sagemaker import get_execution_role\n",
    "import pandas as pd\n",
    "import os\n",
    "import numpy as np\n",
    "import matplotlib.pyplot as plt\n",
    "%matplotlib inline  \n",
    "import seaborn as sns\n",
    "from sklearn.datasets import dump_svmlight_file\n",
    "import random"
   ]
  },
  {
   "cell_type": "markdown",
   "metadata": {},
   "source": [
    "# SageMaker ML Demo - Amazon Web Services\n",
    "\n",
    "### Goals:\n",
    "\n",
    "1) To build a model, using ML SageMaker. \n",
    "\n",
    "2) To predict the probability of a device failure, for a given set of features<br>\n",
    "\n",
    "<h4>Hands-on: Device Failure Prediction, using AWS SageMaker</h4><br>\n",
    "Input Features: date,device and attribute{1..9}<br>\n",
    "Target Feature: failure<br>\n"
   ]
  },
  {
   "cell_type": "markdown",
   "metadata": {},
   "source": [
    "# Data Collection"
   ]
  },
  {
   "cell_type": "code",
   "execution_count": 2,
   "metadata": {},
   "outputs": [],
   "source": [
    "# Get the execution role for the notebook instance.\n",
    "role = get_execution_role()\n",
    "\n",
    "# AWS S3 Metadata; e.g. Name and location of the Dataset.\n",
    "region = boto3.Session().region_name\n",
    "bucket = 'ml-demo-device-failures'\n",
    "file_location = 'device_failure.csv'\n",
    "\n",
    "data_file_location = 'https://s3-{}.amazonaws.com/{}/{}'.format(region,bucket,file_location)\n",
    "device_states=pd.read_csv(data_file_location)"
   ]
  },
  {
   "cell_type": "code",
   "execution_count": 3,
   "metadata": {},
   "outputs": [],
   "source": [
    "# Visualising the data, ordered by date\n",
    "device_states.date=pd.to_datetime(device_states.date)\n",
    "device_states.sort_values('date',inplace=True)"
   ]
  },
  {
   "cell_type": "code",
   "execution_count": 4,
   "metadata": {
    "scrolled": true
   },
   "outputs": [
    {
     "data": {
      "text/html": [
       "<div>\n",
       "<style scoped>\n",
       "    .dataframe tbody tr th:only-of-type {\n",
       "        vertical-align: middle;\n",
       "    }\n",
       "\n",
       "    .dataframe tbody tr th {\n",
       "        vertical-align: top;\n",
       "    }\n",
       "\n",
       "    .dataframe thead th {\n",
       "        text-align: right;\n",
       "    }\n",
       "</style>\n",
       "<table border=\"1\" class=\"dataframe\">\n",
       "  <thead>\n",
       "    <tr style=\"text-align: right;\">\n",
       "      <th></th>\n",
       "      <th>date</th>\n",
       "      <th>device</th>\n",
       "      <th>failure</th>\n",
       "      <th>attribute1</th>\n",
       "      <th>attribute2</th>\n",
       "      <th>attribute3</th>\n",
       "      <th>attribute4</th>\n",
       "      <th>attribute5</th>\n",
       "      <th>attribute6</th>\n",
       "      <th>attribute7</th>\n",
       "      <th>attribute8</th>\n",
       "      <th>attribute9</th>\n",
       "    </tr>\n",
       "  </thead>\n",
       "  <tbody>\n",
       "    <tr>\n",
       "      <th>0</th>\n",
       "      <td>2015-01-01</td>\n",
       "      <td>S1F01085</td>\n",
       "      <td>0</td>\n",
       "      <td>215630672</td>\n",
       "      <td>56</td>\n",
       "      <td>0</td>\n",
       "      <td>52</td>\n",
       "      <td>6</td>\n",
       "      <td>407438</td>\n",
       "      <td>0</td>\n",
       "      <td>0</td>\n",
       "      <td>7</td>\n",
       "    </tr>\n",
       "    <tr>\n",
       "      <th>779</th>\n",
       "      <td>2015-01-01</td>\n",
       "      <td>W1F0Y13C</td>\n",
       "      <td>0</td>\n",
       "      <td>234318640</td>\n",
       "      <td>0</td>\n",
       "      <td>0</td>\n",
       "      <td>0</td>\n",
       "      <td>4</td>\n",
       "      <td>185772</td>\n",
       "      <td>0</td>\n",
       "      <td>0</td>\n",
       "      <td>3</td>\n",
       "    </tr>\n",
       "    <tr>\n",
       "      <th>778</th>\n",
       "      <td>2015-01-01</td>\n",
       "      <td>W1F0XKWR</td>\n",
       "      <td>0</td>\n",
       "      <td>89660704</td>\n",
       "      <td>0</td>\n",
       "      <td>0</td>\n",
       "      <td>0</td>\n",
       "      <td>7</td>\n",
       "      <td>30</td>\n",
       "      <td>0</td>\n",
       "      <td>0</td>\n",
       "      <td>0</td>\n",
       "    </tr>\n",
       "    <tr>\n",
       "      <th>777</th>\n",
       "      <td>2015-01-01</td>\n",
       "      <td>W1F0X7QX</td>\n",
       "      <td>0</td>\n",
       "      <td>162013456</td>\n",
       "      <td>0</td>\n",
       "      <td>0</td>\n",
       "      <td>0</td>\n",
       "      <td>12</td>\n",
       "      <td>217686</td>\n",
       "      <td>0</td>\n",
       "      <td>0</td>\n",
       "      <td>0</td>\n",
       "    </tr>\n",
       "    <tr>\n",
       "      <th>776</th>\n",
       "      <td>2015-01-01</td>\n",
       "      <td>W1F0X7PR</td>\n",
       "      <td>0</td>\n",
       "      <td>13138392</td>\n",
       "      <td>0</td>\n",
       "      <td>0</td>\n",
       "      <td>0</td>\n",
       "      <td>9</td>\n",
       "      <td>191343</td>\n",
       "      <td>0</td>\n",
       "      <td>0</td>\n",
       "      <td>0</td>\n",
       "    </tr>\n",
       "  </tbody>\n",
       "</table>\n",
       "</div>"
      ],
      "text/plain": [
       "          date    device  failure  attribute1  attribute2  attribute3  \\\n",
       "0   2015-01-01  S1F01085        0   215630672          56           0   \n",
       "779 2015-01-01  W1F0Y13C        0   234318640           0           0   \n",
       "778 2015-01-01  W1F0XKWR        0    89660704           0           0   \n",
       "777 2015-01-01  W1F0X7QX        0   162013456           0           0   \n",
       "776 2015-01-01  W1F0X7PR        0    13138392           0           0   \n",
       "\n",
       "     attribute4  attribute5  attribute6  attribute7  attribute8  attribute9  \n",
       "0            52           6      407438           0           0           7  \n",
       "779           0           4      185772           0           0           3  \n",
       "778           0           7          30           0           0           0  \n",
       "777           0          12      217686           0           0           0  \n",
       "776           0           9      191343           0           0           0  "
      ]
     },
     "execution_count": 4,
     "metadata": {},
     "output_type": "execute_result"
    }
   ],
   "source": [
    "# Dataset Sample\n",
    "device_states.head()"
   ]
  },
  {
   "cell_type": "markdown",
   "metadata": {},
   "source": [
    "# Data Visualization & Analysis"
   ]
  },
  {
   "cell_type": "code",
   "execution_count": 5,
   "metadata": {},
   "outputs": [
    {
     "data": {
      "text/plain": [
       "failure\n",
       "0    124388\n",
       "1       106\n",
       "Name: device, dtype: int64"
      ]
     },
     "execution_count": 5,
     "metadata": {},
     "output_type": "execute_result"
    }
   ],
   "source": [
    "# How many failures there are?\n",
    "device_states.groupby('failure').device.count()"
   ]
  },
  {
   "cell_type": "code",
   "execution_count": 6,
   "metadata": {},
   "outputs": [
    {
     "data": {
      "text/html": [
       "<div>\n",
       "<style scoped>\n",
       "    .dataframe tbody tr th:only-of-type {\n",
       "        vertical-align: middle;\n",
       "    }\n",
       "\n",
       "    .dataframe tbody tr th {\n",
       "        vertical-align: top;\n",
       "    }\n",
       "\n",
       "    .dataframe thead th {\n",
       "        text-align: right;\n",
       "    }\n",
       "</style>\n",
       "<table border=\"1\" class=\"dataframe\">\n",
       "  <thead>\n",
       "    <tr style=\"text-align: right;\">\n",
       "      <th></th>\n",
       "      <th>date</th>\n",
       "      <th>device</th>\n",
       "      <th>failure</th>\n",
       "      <th>attribute1</th>\n",
       "      <th>attribute2</th>\n",
       "      <th>attribute3</th>\n",
       "      <th>attribute4</th>\n",
       "      <th>attribute5</th>\n",
       "      <th>attribute6</th>\n",
       "      <th>attribute7</th>\n",
       "      <th>attribute8</th>\n",
       "      <th>attribute9</th>\n",
       "    </tr>\n",
       "  </thead>\n",
       "  <tbody>\n",
       "    <tr>\n",
       "      <th>4885</th>\n",
       "      <td>2015-01-05</td>\n",
       "      <td>S1F0RRB1</td>\n",
       "      <td>1</td>\n",
       "      <td>48467332</td>\n",
       "      <td>64776</td>\n",
       "      <td>0</td>\n",
       "      <td>841</td>\n",
       "      <td>8</td>\n",
       "      <td>39267</td>\n",
       "      <td>56</td>\n",
       "      <td>56</td>\n",
       "      <td>1</td>\n",
       "    </tr>\n",
       "    <tr>\n",
       "      <th>6879</th>\n",
       "      <td>2015-01-07</td>\n",
       "      <td>S1F0CTDN</td>\n",
       "      <td>1</td>\n",
       "      <td>184069720</td>\n",
       "      <td>528</td>\n",
       "      <td>0</td>\n",
       "      <td>4</td>\n",
       "      <td>9</td>\n",
       "      <td>387871</td>\n",
       "      <td>32</td>\n",
       "      <td>32</td>\n",
       "      <td>3</td>\n",
       "    </tr>\n",
       "    <tr>\n",
       "      <th>8823</th>\n",
       "      <td>2015-01-09</td>\n",
       "      <td>W1F0PNA5</td>\n",
       "      <td>1</td>\n",
       "      <td>136429411</td>\n",
       "      <td>64784</td>\n",
       "      <td>0</td>\n",
       "      <td>406</td>\n",
       "      <td>30</td>\n",
       "      <td>224801</td>\n",
       "      <td>8</td>\n",
       "      <td>8</td>\n",
       "      <td>0</td>\n",
       "    </tr>\n",
       "    <tr>\n",
       "      <th>11957</th>\n",
       "      <td>2015-01-13</td>\n",
       "      <td>W1F13SRV</td>\n",
       "      <td>1</td>\n",
       "      <td>188251248</td>\n",
       "      <td>2040</td>\n",
       "      <td>0</td>\n",
       "      <td>0</td>\n",
       "      <td>6</td>\n",
       "      <td>39345</td>\n",
       "      <td>32</td>\n",
       "      <td>32</td>\n",
       "      <td>1</td>\n",
       "    </tr>\n",
       "    <tr>\n",
       "      <th>12668</th>\n",
       "      <td>2015-01-14</td>\n",
       "      <td>W1F1230J</td>\n",
       "      <td>1</td>\n",
       "      <td>220461296</td>\n",
       "      <td>0</td>\n",
       "      <td>0</td>\n",
       "      <td>0</td>\n",
       "      <td>14</td>\n",
       "      <td>325125</td>\n",
       "      <td>0</td>\n",
       "      <td>0</td>\n",
       "      <td>0</td>\n",
       "    </tr>\n",
       "    <tr>\n",
       "      <th>14734</th>\n",
       "      <td>2015-01-17</td>\n",
       "      <td>W1F0T034</td>\n",
       "      <td>1</td>\n",
       "      <td>154998752</td>\n",
       "      <td>1312</td>\n",
       "      <td>0</td>\n",
       "      <td>18</td>\n",
       "      <td>10</td>\n",
       "      <td>306996</td>\n",
       "      <td>0</td>\n",
       "      <td>0</td>\n",
       "      <td>0</td>\n",
       "    </tr>\n",
       "    <tr>\n",
       "      <th>15087</th>\n",
       "      <td>2015-01-18</td>\n",
       "      <td>S1F0GG8X</td>\n",
       "      <td>1</td>\n",
       "      <td>54292264</td>\n",
       "      <td>64736</td>\n",
       "      <td>0</td>\n",
       "      <td>160</td>\n",
       "      <td>11</td>\n",
       "      <td>192179</td>\n",
       "      <td>0</td>\n",
       "      <td>0</td>\n",
       "      <td>2</td>\n",
       "    </tr>\n",
       "    <tr>\n",
       "      <th>16257</th>\n",
       "      <td>2015-01-19</td>\n",
       "      <td>W1F15S4D</td>\n",
       "      <td>1</td>\n",
       "      <td>241813024</td>\n",
       "      <td>3528</td>\n",
       "      <td>0</td>\n",
       "      <td>74</td>\n",
       "      <td>6</td>\n",
       "      <td>106159</td>\n",
       "      <td>16</td>\n",
       "      <td>16</td>\n",
       "      <td>0</td>\n",
       "    </tr>\n",
       "    <tr>\n",
       "      <th>16223</th>\n",
       "      <td>2015-01-19</td>\n",
       "      <td>W1F0Z1W9</td>\n",
       "      <td>1</td>\n",
       "      <td>77877592</td>\n",
       "      <td>0</td>\n",
       "      <td>0</td>\n",
       "      <td>0</td>\n",
       "      <td>12</td>\n",
       "      <td>233238</td>\n",
       "      <td>0</td>\n",
       "      <td>0</td>\n",
       "      <td>0</td>\n",
       "    </tr>\n",
       "    <tr>\n",
       "      <th>16420</th>\n",
       "      <td>2015-01-19</td>\n",
       "      <td>Z1F0NVZA</td>\n",
       "      <td>1</td>\n",
       "      <td>21389544</td>\n",
       "      <td>0</td>\n",
       "      <td>0</td>\n",
       "      <td>60</td>\n",
       "      <td>10</td>\n",
       "      <td>209721</td>\n",
       "      <td>16</td>\n",
       "      <td>16</td>\n",
       "      <td>0</td>\n",
       "    </tr>\n",
       "  </tbody>\n",
       "</table>\n",
       "</div>"
      ],
      "text/plain": [
       "            date    device  failure  attribute1  attribute2  attribute3  \\\n",
       "4885  2015-01-05  S1F0RRB1        1    48467332       64776           0   \n",
       "6879  2015-01-07  S1F0CTDN        1   184069720         528           0   \n",
       "8823  2015-01-09  W1F0PNA5        1   136429411       64784           0   \n",
       "11957 2015-01-13  W1F13SRV        1   188251248        2040           0   \n",
       "12668 2015-01-14  W1F1230J        1   220461296           0           0   \n",
       "14734 2015-01-17  W1F0T034        1   154998752        1312           0   \n",
       "15087 2015-01-18  S1F0GG8X        1    54292264       64736           0   \n",
       "16257 2015-01-19  W1F15S4D        1   241813024        3528           0   \n",
       "16223 2015-01-19  W1F0Z1W9        1    77877592           0           0   \n",
       "16420 2015-01-19  Z1F0NVZA        1    21389544           0           0   \n",
       "\n",
       "       attribute4  attribute5  attribute6  attribute7  attribute8  attribute9  \n",
       "4885          841           8       39267          56          56           1  \n",
       "6879            4           9      387871          32          32           3  \n",
       "8823          406          30      224801           8           8           0  \n",
       "11957           0           6       39345          32          32           1  \n",
       "12668           0          14      325125           0           0           0  \n",
       "14734          18          10      306996           0           0           0  \n",
       "15087         160          11      192179           0           0           2  \n",
       "16257          74           6      106159          16          16           0  \n",
       "16223           0          12      233238           0           0           0  \n",
       "16420          60          10      209721          16          16           0  "
      ]
     },
     "execution_count": 6,
     "metadata": {},
     "output_type": "execute_result"
    }
   ],
   "source": [
    "# Analyse 10 random failures:\n",
    "device_states[device_states.failure==1].head(10)"
   ]
  },
  {
   "cell_type": "code",
   "execution_count": 7,
   "metadata": {},
   "outputs": [
    {
     "name": "stdout",
     "output_type": "stream",
     "text": [
      "For variable date, there are 304 unique values\n",
      "For variable device, there are 1168 unique values\n",
      "For variable failure, there are 2 unique values\n",
      "For variable attribute1, there are 123878 unique values\n",
      "For variable attribute2, there are 558 unique values\n",
      "For variable attribute3, there are 47 unique values\n",
      "For variable attribute4, there are 115 unique values\n",
      "For variable attribute5, there are 60 unique values\n",
      "For variable attribute6, there are 44838 unique values\n",
      "For variable attribute7, there are 28 unique values\n",
      "For variable attribute8, there are 28 unique values\n",
      "For variable attribute9, there are 65 unique values\n"
     ]
    }
   ],
   "source": [
    "# attr1 and attr6: high NDV \n",
    "# while, atrr <> {1,6} probable categorical features.\n",
    "for i in device_states.columns:\n",
    "    print(\"For variable \" + str(i) + \", there are \" + str(len(device_states[i].unique())) + \" unique values\")"
   ]
  },
  {
   "cell_type": "code",
   "execution_count": 8,
   "metadata": {},
   "outputs": [
    {
     "data": {
      "text/plain": [
       "<matplotlib.axes._subplots.AxesSubplot at 0x7f6aab2ab0f0>"
      ]
     },
     "execution_count": 8,
     "metadata": {},
     "output_type": "execute_result"
    },
    {
     "data": {
      "image/png": "[encoded data removed]",
      "text/plain": [
       "<Figure size 432x288 with 1 Axes>"
      ]
     },
     "metadata": {},
     "output_type": "display_data"
    }
   ],
   "source": [
    "# How many failures there are:\n",
    "df = device_states.groupby('failure').device.count()\n",
    "df.plot(kind='bar',logy=True,title=\"Device Failures versus Normal\")"
   ]
  },
  {
   "cell_type": "code",
   "execution_count": 9,
   "metadata": {},
   "outputs": [
    {
     "data": {
      "text/plain": [
       "failure       1.000000\n",
       "attribute1    0.001984\n",
       "attribute2    0.052902\n",
       "attribute3   -0.000948\n",
       "attribute4    0.067398\n",
       "attribute5    0.002270\n",
       "attribute6   -0.000550\n",
       "attribute7    0.119055\n",
       "attribute8    0.119055\n",
       "attribute9    0.001622\n",
       "Name: failure, dtype: float64"
      ]
     },
     "execution_count": 9,
     "metadata": {},
     "output_type": "execute_result"
    }
   ],
   "source": [
    "# Correlation of the Features vs. our Target:\n",
    "device_states.corr()['failure']"
   ]
  },
  {
   "cell_type": "code",
   "execution_count": 10,
   "metadata": {},
   "outputs": [
    {
     "data": {
      "text/plain": [
       "Text(0,0.5,'failure')"
      ]
     },
     "execution_count": 10,
     "metadata": {},
     "output_type": "execute_result"
    },
    {
     "data": {
      "image/png": "[encoded data removed]",
      "text/plain": [
       "<Figure size 432x288 with 1 Axes>"
      ]
     },
     "metadata": {},
     "output_type": "display_data"
    }
   ],
   "source": [
    "# Plotting the Correlation of feature 4, against Target:\n",
    "plt.scatter(x=device_states.attribute4,y=device_states[\"failure\"],label='attribute4')\n",
    "plt.grid(True)\n",
    "plt.title('Device Failure, correlated against Attribute 4')\n",
    "plt.xlabel('attribute4')\n",
    "plt.ylabel('failure')"
   ]
  },
  {
   "cell_type": "code",
   "execution_count": 11,
   "metadata": {},
   "outputs": [
    {
     "data": {
      "text/plain": [
       "Text(0,0.5,'failure')"
      ]
     },
     "execution_count": 11,
     "metadata": {},
     "output_type": "execute_result"
    },
    {
     "data": {
      "image/png": "[encoded data removed]",
      "text/plain": [
       "<Figure size 432x288 with 1 Axes>"
      ]
     },
     "metadata": {},
     "output_type": "display_data"
    }
   ],
   "source": [
    "# Plotting the Correlation of feature 7, against Target:\n",
    "plt.scatter(x=device_states.attribute4,y=device_states[\"failure\"],label='attribute4')\n",
    "plt.grid(True)\n",
    "plt.title('Device Failure, correlated against Attribute 7')\n",
    "plt.xlabel('attribute7')\n",
    "plt.ylabel('failure')"
   ]
  },
  {
   "cell_type": "code",
   "execution_count": 12,
   "metadata": {},
   "outputs": [
    {
     "data": {
      "text/plain": [
       "Text(0.5,1,'Device Failures Over Time')"
      ]
     },
     "execution_count": 12,
     "metadata": {},
     "output_type": "execute_result"
    },
    {
     "data": {
      "image/png": "[encoded data removed]",
      "text/plain": [
       "<Figure size 432x288 with 1 Axes>"
      ]
     },
     "metadata": {},
     "output_type": "display_data"
    }
   ],
   "source": [
    "#check daily failure numbers\n",
    "device_states.groupby('date').failure.sum().plot() \n",
    "plt.title('Device Failures Over Time')"
   ]
  },
  {
   "cell_type": "code",
   "execution_count": 13,
   "metadata": {},
   "outputs": [
    {
     "data": {
      "image/png": "[encoded data removed]",
      "text/plain": [
       "<Figure size 432x288 with 1 Axes>"
      ]
     },
     "metadata": {},
     "output_type": "display_data"
    }
   ],
   "source": [
    "# Device Failure Rate by Month\n",
    "check=device_states.copy()\n",
    "check.set_index(['device','date'],inplace=True)\n",
    "check.sort_index(inplace=True)\n",
    "monthly_failure=check.resample('M',label='right',convention='end',level='date').failure.sum()\n",
    "monthly_base=check.resample('M',label='right',\n",
    "                            convention='end',level='date').failure.count()\n",
    "monthly_rate=monthly_failure/monthly_base\n",
    "monthly_rate.plot()\n",
    "plt.title('Device Failure Rate by Month')\n",
    "plt.show()"
   ]
  },
  {
   "cell_type": "code",
   "execution_count": 14,
   "metadata": {},
   "outputs": [
    {
     "data": {
      "image/png": "[encoded data removed]",
      "text/plain": [
       "<Figure size 1152x864 with 2 Axes>"
      ]
     },
     "metadata": {},
     "output_type": "display_data"
    }
   ],
   "source": [
    "# Plotting the Feature Correlation:\n",
    "\n",
    "cols = [\"attribute1\",\"attribute2\",\"attribute3\",\"attribute4\",\"attribute5\",\"attribute6\",\"attribute7\",\"attribute9\"]\n",
    "colormap = plt.cm.viridis\n",
    "plt.figure(figsize = (16, 12))\n",
    "plt.title('Feature Correlation Heatmap', y = 1.05, size  = 15)\n",
    "sns.heatmap(device_states[[\"failure\"] + cols].astype(float).corr(), \n",
    "            linewidth = 0.1, vmax = 1.0, square = True, cmap = colormap, linecolor = 'white', annot = True)\n",
    "plt.show()"
   ]
  },
  {
   "cell_type": "markdown",
   "metadata": {},
   "source": [
    "# Feature engineering"
   ]
  },
  {
   "cell_type": "code",
   "execution_count": null,
   "metadata": {},
   "outputs": [],
   "source": [
    "#list the devices with failures\n",
    "rs=1\n",
    "random.seed(rs)\n",
    "s_window=7 #short memory window\n",
    "l_window=30 #long memory window\n",
    "\n",
    "failed=device_states[device_states['failure']==1].device\n",
    "failed.reset_index(drop=True,inplace=True)\n",
    "device_states.loc[device_states['device']==failed[3],['date','failure']] \n",
    "\n",
    "#Explore attributes for failed and not failed devices\n",
    "\n",
    "#first, for some failed devices, let's see how attributes 1~4 values might change \n",
    "#as they get closer to failure date\n",
    "failed_sample=random.sample(failed.tolist(),5)\n",
    "for i in range(5):\n",
    "    fig,axes =plt.subplots(ncols=4,figsize=(16,4))\n",
    "    fig.autofmt_xdate()\n",
    "    for j in range(1,5):\n",
    "    \n",
    "        value=device_states.loc[device_states['device']==failed_sample[i],\n",
    "                                 ['date','attribute'+str(j)]]\n",
    "        rolling_mean=value['attribute'+str(j)].rolling(window=l_window, min_periods=5).mean()\n",
    "        \n",
    "        ax=axes[j-1]\n",
    "        ax.plot(value['date'],value['attribute'+str(j)],'b')\n",
    "        ax.plot(value['date'],rolling_mean,'r')\n",
    "        ax.set_title('attribute'+str(j)+' for device'+failed[i])\n",
    "        \n",
    "    plt.show()"
   ]
  },
  {
   "cell_type": "markdown",
   "metadata": {},
   "source": [
    "<br>Creating short and long term rolling mean and rolling std for some attributes"
   ]
  },
  {
   "cell_type": "code",
   "execution_count": null,
   "metadata": {},
   "outputs": [],
   "source": [
    "for i in range(1,10):\n",
    "    device_states['attribute'+str(i)+'_s_rolling_mean']=\\\n",
    "        device_states['attribute'+str(i)].rolling(window=s_window,min_periods=5,center=False).mean()\n",
    "    device_states['attribute'+str(i)+'_l_rolling_mean']=\\\n",
    "        device_states['attribute'+str(i)].rolling(window=l_window, min_periods=15).mean()\n",
    "\n",
    "    if (i in (1,6)):\n",
    "        device_states['attribute'+str(i)+'_s_rolling_std']=\\\n",
    "            device_states['attribute'+str(i)].rolling(window=s_window, min_periods=5).std()\n",
    "        device_states['attribute'+str(i)+'_l_rolling_std']=\\\n",
    "            device_states['attribute'+str(i)].rolling(window=l_window, min_periods=15).std()\n"
   ]
  },
  {
   "cell_type": "markdown",
   "metadata": {},
   "source": [
    "Creating changes from the initial values"
   ]
  },
  {
   "cell_type": "code",
   "execution_count": null,
   "metadata": {},
   "outputs": [],
   "source": [
    "temp=device_states.copy()\n",
    "temp['initial_date']=temp.groupby('device')['date'].transform('min')\n",
    "first_record=temp[temp['date']==temp['initial_date']]\n",
    "\n",
    "for i in range(1,10):\n",
    "    first_record=first_record.rename(columns={'attribute'+str(i):'initial_attribute'+str(i)})\n",
    "\n",
    "first_record.drop(['failure','date','initial_date',\n",
    "                   'attribute1_s_rolling_mean','attribute2_s_rolling_mean',\n",
    "                   'attribute3_s_rolling_mean','attribute4_s_rolling_mean',\n",
    "                   'attribute5_s_rolling_mean','attribute6_s_rolling_mean',\n",
    "                   'attribute7_s_rolling_mean','attribute8_s_rolling_mean',\n",
    "                   'attribute9_s_rolling_mean',\n",
    "                   'attribute1_s_rolling_std','attribute6_s_rolling_std',\n",
    "                   'attribute1_l_rolling_mean','attribute2_l_rolling_mean',\n",
    "                   'attribute3_l_rolling_mean','attribute4_l_rolling_mean',\n",
    "                   'attribute5_l_rolling_mean','attribute6_l_rolling_mean',\n",
    "                   'attribute7_l_rolling_mean','attribute8_l_rolling_mean',\n",
    "                   'attribute9_l_rolling_mean',\n",
    "                   'attribute1_l_rolling_std','attribute6_l_rolling_std'],\n",
    "                  axis=1,inplace=True)\n",
    "\n",
    "diff=pd.merge(device_states,first_record,how='left',on='device')    \n",
    "for i in range(1,10):\n",
    "    diff['attribute'+str(i)+'_diff']=diff['attribute'+str(i)]-diff['initial_attribute'+str(i)]\n",
    "\n",
    "diff.drop(['initial_attribute1','initial_attribute2',\n",
    "                   'initial_attribute3','initial_attribute4','initial_attribute5',\n",
    "                   'initial_attribute6','initial_attribute7','initial_attribute8',\n",
    "                   'initial_attribute9'],axis=1,inplace=True)"
   ]
  },
  {
   "cell_type": "code",
   "execution_count": null,
   "metadata": {},
   "outputs": [],
   "source": [
    "# single period change of attributes\n",
    "\n",
    "diff.set_index(['device','date'],inplace=True)\n",
    "diff.sort_index(inplace=True)\n",
    "shift=diff.shift(1,axis=0) \n",
    "#move the previous period x to the next period, \n",
    "#since we can only use last period values for prediction\n",
    "\n",
    "for i in range(1,10):\n",
    "    shift=shift.rename(columns={'attribute'+str(i):'lag_attribute'+str(i)})\n",
    "    \n",
    "shift.drop(['failure','attribute1_s_rolling_mean','attribute2_s_rolling_mean',\n",
    "                   'attribute3_s_rolling_mean','attribute4_s_rolling_mean',\n",
    "                    'attribute5_s_rolling_mean','attribute6_s_rolling_mean',\n",
    "                    'attribute7_s_rolling_mean','attribute8_s_rolling_mean',\n",
    "                   'attribute9_s_rolling_mean','attribute1_s_rolling_std',\n",
    "                    'attribute6_s_rolling_std','attribute1_l_rolling_mean',\n",
    "                    'attribute2_l_rolling_mean','attribute3_l_rolling_mean',\n",
    "                    'attribute4_l_rolling_mean','attribute5_l_rolling_mean',\n",
    "                   'attribute6_l_rolling_mean','attribute7_l_rolling_mean',\n",
    "                    'attribute8_l_rolling_mean','attribute9_l_rolling_mean',\n",
    "                   'attribute1_l_rolling_std','attribute6_l_rolling_std',\n",
    "                   'attribute1_diff','attribute2_diff','attribute3_diff',\n",
    "                    'attribute4_diff','attribute5_diff','attribute6_diff',\n",
    "                    'attribute7_diff','attribute8_diff',\n",
    "                   'attribute9_diff'],axis=1,inplace=True)\n",
    "\n",
    "diff2=pd.merge(diff,shift,how='left',right_index=True,left_index=True)\n",
    "for i in range(1,10):\n",
    "    diff2['attribute'+str(i)+'_change']=diff2['attribute'+str(i)]\n",
    "    -diff2['lag_attribute'+str(i)]"
   ]
  },
  {
   "cell_type": "markdown",
   "metadata": {},
   "source": [
    "### Shift Up the Next periods (Device Failure Label) as a Target Variable  for Prediction \n",
    "This dataset is now ready to be converted from temporal to a Cross-sectional dataset"
   ]
  },
  {
   "cell_type": "code",
   "execution_count": null,
   "metadata": {},
   "outputs": [],
   "source": [
    "results1=diff2.shift(-1,axis=0)\n",
    "results1=results1['failure']\n",
    "results_1=results1.to_frame(name='failure_next_period')\n",
    "\n",
    "final_modeling_set=pd.merge(diff2,results_1,how='left',\n",
    "                            right_index=True,left_index=True)\n",
    "\n",
    "final_modeling_set.drop(['failure','lag_attribute1','lag_attribute2','lag_attribute3','lag_attribute4',\n",
    "              'lag_attribute5','lag_attribute6','lag_attribute7','lag_attribute8',\n",
    "              'lag_attribute9'],axis=1,inplace=True)\n",
    "final_modeling_set.rename(columns={'failure_next_period':'y'},inplace=True)\n",
    "final_modeling_set.reset_index(inplace=True)"
   ]
  },
  {
   "cell_type": "code",
   "execution_count": null,
   "metadata": {
    "scrolled": true
   },
   "outputs": [],
   "source": [
    "final_modeling_set"
   ]
  },
  {
   "cell_type": "markdown",
   "metadata": {},
   "source": [
    "## Splitting Training, Validation and Test Datasets\n",
    "First 5 months is used for Model Training <br/>\n",
    "1 month is used for Model Validation <br/>\n",
    "The last 5 months is used for Model Testing"
   ]
  },
  {
   "cell_type": "markdown",
   "metadata": {},
   "source": [
    "Files passed to XGBoost need to be in a specific format:\n",
    "\t1. No header row\n",
    "\t2. Outcome variable in the first column, features in the rest of the columns (there's no ability to drop them during the training process)\n",
    "\t3. All columns need to be numeric\n",
    "\t4. LibSVM format is recommended rather than csv                                                                                  "
   ]
  },
  {
   "cell_type": "code",
   "execution_count": null,
   "metadata": {},
   "outputs": [],
   "source": [
    "import pandas_ml\n",
    "### Dataset preparation\n",
    "final_modeling_set.dropna(inplace=True)\n",
    "final_modeling_set.reset_index(drop=True,inplace=True)\n",
    "final_modeling_set['y']=final_modeling_set['y'].astype(int)\n",
    "cols = final_modeling_set.columns.tolist()\n",
    "cols = (cols[-1:] + cols[:-1])\n",
    "final_modeling_set=final_modeling_set[cols]\n",
    "\n",
    "train_data=final_modeling_set.loc[final_modeling_set.date<'2015-06-01',:]\n",
    "train_data_X = train_data[np.setdiff1d(cols,['date','device','y'])]\n",
    "train_data_y = train_data['y']\n",
    "\n",
    "dump_svmlight_file(train_data_X,train_data_y,'train.dat',zero_based=True,multilabel=False)"
   ]
  },
  {
   "cell_type": "code",
   "execution_count": null,
   "metadata": {},
   "outputs": [],
   "source": [
    "###SMOTE data balancing\n",
    "\"\"\"df=pandas_ml.ModelFrame(train_data_X,train_data_y)\n",
    "sampler=df.imbalance.combine.SMOTE()\n",
    "sampler.out_step=0.5\n",
    "train_data=df.fit_sample(sampler,df[\"y\"])\n",
    "train_data_X = train_data[np.setdiff1d(train_data.columns,['y'])]\n",
    "train_data_y = train_data['y']\n",
    "\n",
    "dump_svmlight_file(train_data_X,train_data_y,'train.dat',zero_based=True,multilabel=False)\n",
    "\"\"\""
   ]
  },
  {
   "cell_type": "code",
   "execution_count": null,
   "metadata": {},
   "outputs": [],
   "source": [
    "validation_data=final_modeling_set.loc[(final_modeling_set.date>='2015-06-01') & (final_modeling_set.date<'2015-07-01'),:]\n",
    "validation_data_X = validation_data[np.setdiff1d(cols,['date','device','y'])]\n",
    "validation_data_y = validation_data['y']\n",
    "dump_svmlight_file(validation_data_X,validation_data_y,'validation.dat',zero_based=True,multilabel=False)\n",
    "\n",
    "testing_data=final_modeling_set.loc[final_modeling_set.date>='2015-07-01',:]\n",
    "testing_data.to_csv(\"test.csv\",index=False)"
   ]
  },
  {
   "cell_type": "markdown",
   "metadata": {},
   "source": [
    "Sending the created Files to S3 locations(to be consumed by Model Training Process in Part 2)"
   ]
  },
  {
   "cell_type": "code",
   "execution_count": null,
   "metadata": {},
   "outputs": [],
   "source": [
    "s3_input_train = boto3.Session().resource('s3').Bucket(bucket).Object('train/train.dat')\n",
    "s3_input_train.upload_file('train.dat')\n",
    "\n",
    "s3_input_validation = boto3.Session().resource('s3').Bucket(bucket).Object('validation/validation.dat')\n",
    "s3_input_validation.upload_file('validation.dat')\n",
    "\n",
    "s3_input_test = boto3.Session().resource('s3').Bucket(bucket).Object('test/test.csv')\n",
    "s3_input_test.upload_file('test.csv')"
   ]
  }
 ],
 "metadata": {
  "kernelspec": {
   "display_name": "conda_python3",
   "language": "python",
   "name": "conda_python3"
  },
  "language_info": {
   "codemirror_mode": {
    "name": "ipython",
    "version": 3
   },
   "file_extension": ".py",
   "mimetype": "text/x-python",
   "name": "python",
   "nbconvert_exporter": "python",
   "pygments_lexer": "ipython3",
   "version": "3.6.5"
  }
 },
 "nbformat": 4,
 "nbformat_minor": 2
}
